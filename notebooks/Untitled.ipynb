{
 "cells": [
  {
   "cell_type": "code",
   "execution_count": 2,
   "id": "9683a51c-2550-4983-8d0d-e4a81e4f2b80",
   "metadata": {
    "tags": []
   },
   "outputs": [],
   "source": [
    "from NHACK.utils import load_pkg_yaml"
   ]
  },
  {
   "cell_type": "code",
   "execution_count": 3,
   "id": "d95df5d6-ed35-4884-b0c2-67cbe0355825",
   "metadata": {
    "tags": []
   },
   "outputs": [
    {
     "data": {
      "text/plain": [
       "{'paths': {'atlaspath': 'Documents/atlases/'},\n",
       " 'preprocessing': {'zscore_data': True,\n",
       "  'filter_data': True,\n",
       "  'filter_params': {'window_length': 201, 'polyorder': 3}},\n",
       " 'analysis': {'subjects_to_analyse': ['01', '02', '03', '04'],\n",
       "  'ROIS': ['V1', 'V2', 'V3'],\n",
       "  'njobs': 60,\n",
       "  'backend_engine': 'torch'},\n",
       " 'plotting': {'figsize_x': 6, 'figsize_y': 4, 'dpi': 300},\n",
       " 'p_paths': {'data_dir': '/scripts/NEUROHACK/data',\n",
       "  'docs_dir': '/scripts/NEUROHACK/docs',\n",
       "  'results_dir': '/scripts/NEUROHACK/results',\n",
       "  'scripts_dir': '/scripts/NEUROHACK/scripts',\n",
       "  'tests_dir': '/scripts/NEUROHACK/tests'}}"
      ]
     },
     "execution_count": 3,
     "metadata": {},
     "output_type": "execute_result"
    }
   ],
   "source": [
    "load_pkg_yaml()"
   ]
  },
  {
   "cell_type": "code",
   "execution_count": null,
   "id": "fd0cf3b5-6441-4b6d-938c-267c17762255",
   "metadata": {},
   "outputs": [],
   "source": []
  }
 ],
 "metadata": {
  "kernelspec": {
   "display_name": "Python 3 (ipykernel)",
   "language": "python",
   "name": "python3"
  },
  "language_info": {
   "codemirror_mode": {
    "name": "ipython",
    "version": 3
   },
   "file_extension": ".py",
   "mimetype": "text/x-python",
   "name": "python",
   "nbconvert_exporter": "python",
   "pygments_lexer": "ipython3",
   "version": "3.10.10"
  }
 },
 "nbformat": 4,
 "nbformat_minor": 5
}
